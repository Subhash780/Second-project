{
  "cells": [
    {
      "cell_type": "code",
      "execution_count": 1,
      "metadata": {
        "id": "sCCMm_CZWbd3"
      },
      "outputs": [],
      "source": [
        "import pandas as pd\n",
        "import numpy as np\n",
        "import matplotlib.pyplot as plt\n",
        "import seaborn as sns\n",
        "from mlxtend.frequent_patterns import apriori,association_rules"
      ]
    },
    {
      "cell_type": "code",
      "execution_count": 2,
      "metadata": {
        "colab": {
          "base_uri": "https://localhost:8080/",
          "height": 363
        },
        "id": "TrT7ZvKff1A3",
        "outputId": "4c8c44d0-cc4c-4a64-cdda-a2ecfd8fc395"
      },
      "outputs": [
        {
          "data": {
            "text/html": [
              "<div>\n",
              "<style scoped>\n",
              "    .dataframe tbody tr th:only-of-type {\n",
              "        vertical-align: middle;\n",
              "    }\n",
              "\n",
              "    .dataframe tbody tr th {\n",
              "        vertical-align: top;\n",
              "    }\n",
              "\n",
              "    .dataframe thead th {\n",
              "        text-align: right;\n",
              "    }\n",
              "</style>\n",
              "<table border=\"1\" class=\"dataframe\">\n",
              "  <thead>\n",
              "    <tr style=\"text-align: right;\">\n",
              "      <th></th>\n",
              "      <th>V1</th>\n",
              "      <th>V2</th>\n",
              "      <th>V3</th>\n",
              "      <th>V4</th>\n",
              "      <th>V5</th>\n",
              "      <th>Sixth Sense</th>\n",
              "      <th>Gladiator</th>\n",
              "      <th>LOTR1</th>\n",
              "      <th>Harry Potter1</th>\n",
              "      <th>Patriot</th>\n",
              "      <th>LOTR2</th>\n",
              "      <th>Harry Potter2</th>\n",
              "      <th>LOTR</th>\n",
              "      <th>Braveheart</th>\n",
              "      <th>Green Mile</th>\n",
              "    </tr>\n",
              "  </thead>\n",
              "  <tbody>\n",
              "    <tr>\n",
              "      <th>0</th>\n",
              "      <td>Sixth Sense</td>\n",
              "      <td>LOTR1</td>\n",
              "      <td>Harry Potter1</td>\n",
              "      <td>Green Mile</td>\n",
              "      <td>LOTR2</td>\n",
              "      <td>1</td>\n",
              "      <td>0</td>\n",
              "      <td>1</td>\n",
              "      <td>1</td>\n",
              "      <td>0</td>\n",
              "      <td>1</td>\n",
              "      <td>0</td>\n",
              "      <td>0</td>\n",
              "      <td>0</td>\n",
              "      <td>1</td>\n",
              "    </tr>\n",
              "    <tr>\n",
              "      <th>1</th>\n",
              "      <td>Gladiator</td>\n",
              "      <td>Patriot</td>\n",
              "      <td>Braveheart</td>\n",
              "      <td>NaN</td>\n",
              "      <td>NaN</td>\n",
              "      <td>0</td>\n",
              "      <td>1</td>\n",
              "      <td>0</td>\n",
              "      <td>0</td>\n",
              "      <td>1</td>\n",
              "      <td>0</td>\n",
              "      <td>0</td>\n",
              "      <td>0</td>\n",
              "      <td>1</td>\n",
              "      <td>0</td>\n",
              "    </tr>\n",
              "    <tr>\n",
              "      <th>2</th>\n",
              "      <td>LOTR1</td>\n",
              "      <td>LOTR2</td>\n",
              "      <td>NaN</td>\n",
              "      <td>NaN</td>\n",
              "      <td>NaN</td>\n",
              "      <td>0</td>\n",
              "      <td>0</td>\n",
              "      <td>1</td>\n",
              "      <td>0</td>\n",
              "      <td>0</td>\n",
              "      <td>1</td>\n",
              "      <td>0</td>\n",
              "      <td>0</td>\n",
              "      <td>0</td>\n",
              "      <td>0</td>\n",
              "    </tr>\n",
              "    <tr>\n",
              "      <th>3</th>\n",
              "      <td>Gladiator</td>\n",
              "      <td>Patriot</td>\n",
              "      <td>Sixth Sense</td>\n",
              "      <td>NaN</td>\n",
              "      <td>NaN</td>\n",
              "      <td>1</td>\n",
              "      <td>1</td>\n",
              "      <td>0</td>\n",
              "      <td>0</td>\n",
              "      <td>1</td>\n",
              "      <td>0</td>\n",
              "      <td>0</td>\n",
              "      <td>0</td>\n",
              "      <td>0</td>\n",
              "      <td>0</td>\n",
              "    </tr>\n",
              "    <tr>\n",
              "      <th>4</th>\n",
              "      <td>Gladiator</td>\n",
              "      <td>Patriot</td>\n",
              "      <td>Sixth Sense</td>\n",
              "      <td>NaN</td>\n",
              "      <td>NaN</td>\n",
              "      <td>1</td>\n",
              "      <td>1</td>\n",
              "      <td>0</td>\n",
              "      <td>0</td>\n",
              "      <td>1</td>\n",
              "      <td>0</td>\n",
              "      <td>0</td>\n",
              "      <td>0</td>\n",
              "      <td>0</td>\n",
              "      <td>0</td>\n",
              "    </tr>\n",
              "    <tr>\n",
              "      <th>5</th>\n",
              "      <td>Gladiator</td>\n",
              "      <td>Patriot</td>\n",
              "      <td>Sixth Sense</td>\n",
              "      <td>NaN</td>\n",
              "      <td>NaN</td>\n",
              "      <td>1</td>\n",
              "      <td>1</td>\n",
              "      <td>0</td>\n",
              "      <td>0</td>\n",
              "      <td>1</td>\n",
              "      <td>0</td>\n",
              "      <td>0</td>\n",
              "      <td>0</td>\n",
              "      <td>0</td>\n",
              "      <td>0</td>\n",
              "    </tr>\n",
              "    <tr>\n",
              "      <th>6</th>\n",
              "      <td>Harry Potter1</td>\n",
              "      <td>Harry Potter2</td>\n",
              "      <td>NaN</td>\n",
              "      <td>NaN</td>\n",
              "      <td>NaN</td>\n",
              "      <td>0</td>\n",
              "      <td>0</td>\n",
              "      <td>0</td>\n",
              "      <td>1</td>\n",
              "      <td>0</td>\n",
              "      <td>0</td>\n",
              "      <td>1</td>\n",
              "      <td>0</td>\n",
              "      <td>0</td>\n",
              "      <td>0</td>\n",
              "    </tr>\n",
              "    <tr>\n",
              "      <th>7</th>\n",
              "      <td>Gladiator</td>\n",
              "      <td>Patriot</td>\n",
              "      <td>NaN</td>\n",
              "      <td>NaN</td>\n",
              "      <td>NaN</td>\n",
              "      <td>0</td>\n",
              "      <td>1</td>\n",
              "      <td>0</td>\n",
              "      <td>0</td>\n",
              "      <td>1</td>\n",
              "      <td>0</td>\n",
              "      <td>0</td>\n",
              "      <td>0</td>\n",
              "      <td>0</td>\n",
              "      <td>0</td>\n",
              "    </tr>\n",
              "    <tr>\n",
              "      <th>8</th>\n",
              "      <td>Gladiator</td>\n",
              "      <td>Patriot</td>\n",
              "      <td>Sixth Sense</td>\n",
              "      <td>NaN</td>\n",
              "      <td>NaN</td>\n",
              "      <td>1</td>\n",
              "      <td>1</td>\n",
              "      <td>0</td>\n",
              "      <td>0</td>\n",
              "      <td>1</td>\n",
              "      <td>0</td>\n",
              "      <td>0</td>\n",
              "      <td>0</td>\n",
              "      <td>0</td>\n",
              "      <td>0</td>\n",
              "    </tr>\n",
              "    <tr>\n",
              "      <th>9</th>\n",
              "      <td>Sixth Sense</td>\n",
              "      <td>LOTR</td>\n",
              "      <td>Gladiator</td>\n",
              "      <td>Green Mile</td>\n",
              "      <td>NaN</td>\n",
              "      <td>1</td>\n",
              "      <td>1</td>\n",
              "      <td>0</td>\n",
              "      <td>0</td>\n",
              "      <td>0</td>\n",
              "      <td>0</td>\n",
              "      <td>0</td>\n",
              "      <td>1</td>\n",
              "      <td>0</td>\n",
              "      <td>1</td>\n",
              "    </tr>\n",
              "  </tbody>\n",
              "</table>\n",
              "</div>"
            ],
            "text/plain": [
              "              V1             V2             V3          V4     V5  \\\n",
              "0    Sixth Sense          LOTR1  Harry Potter1  Green Mile  LOTR2   \n",
              "1      Gladiator        Patriot     Braveheart         NaN    NaN   \n",
              "2          LOTR1          LOTR2            NaN         NaN    NaN   \n",
              "3      Gladiator        Patriot    Sixth Sense         NaN    NaN   \n",
              "4      Gladiator        Patriot    Sixth Sense         NaN    NaN   \n",
              "5      Gladiator        Patriot    Sixth Sense         NaN    NaN   \n",
              "6  Harry Potter1  Harry Potter2            NaN         NaN    NaN   \n",
              "7      Gladiator        Patriot            NaN         NaN    NaN   \n",
              "8      Gladiator        Patriot    Sixth Sense         NaN    NaN   \n",
              "9    Sixth Sense           LOTR      Gladiator  Green Mile    NaN   \n",
              "\n",
              "   Sixth Sense  Gladiator  LOTR1  Harry Potter1  Patriot  LOTR2  \\\n",
              "0            1          0      1              1        0      1   \n",
              "1            0          1      0              0        1      0   \n",
              "2            0          0      1              0        0      1   \n",
              "3            1          1      0              0        1      0   \n",
              "4            1          1      0              0        1      0   \n",
              "5            1          1      0              0        1      0   \n",
              "6            0          0      0              1        0      0   \n",
              "7            0          1      0              0        1      0   \n",
              "8            1          1      0              0        1      0   \n",
              "9            1          1      0              0        0      0   \n",
              "\n",
              "   Harry Potter2  LOTR  Braveheart  Green Mile  \n",
              "0              0     0           0           1  \n",
              "1              0     0           1           0  \n",
              "2              0     0           0           0  \n",
              "3              0     0           0           0  \n",
              "4              0     0           0           0  \n",
              "5              0     0           0           0  \n",
              "6              1     0           0           0  \n",
              "7              0     0           0           0  \n",
              "8              0     0           0           0  \n",
              "9              0     1           0           1  "
            ]
          },
          "execution_count": 2,
          "metadata": {},
          "output_type": "execute_result"
        }
      ],
      "source": [
        "df=pd.read_csv(\"C:/Users/chopp/Downloads/my_movies (1).csv\")\n",
        "df"
      ]
    },
    {
      "cell_type": "code",
      "execution_count": 3,
      "metadata": {
        "colab": {
          "base_uri": "https://localhost:8080/"
        },
        "id": "ExkyD5bef1D-",
        "outputId": "5fe6d94b-cbae-4358-eb7b-509ebed0c910"
      },
      "outputs": [
        {
          "data": {
            "text/plain": [
              "Index(['V1', 'V2', 'V3', 'V4', 'V5', 'Sixth Sense', 'Gladiator', 'LOTR1',\n",
              "       'Harry Potter1', 'Patriot', 'LOTR2', 'Harry Potter2', 'LOTR',\n",
              "       'Braveheart', 'Green Mile'],\n",
              "      dtype='object')"
            ]
          },
          "execution_count": 3,
          "metadata": {},
          "output_type": "execute_result"
        }
      ],
      "source": [
        "df.columns"
      ]
    },
    {
      "cell_type": "code",
      "execution_count": 4,
      "metadata": {
        "colab": {
          "base_uri": "https://localhost:8080/",
          "height": 363
        },
        "id": "cDBuqTnVbF8k",
        "outputId": "4402ef54-51e0-44bf-d12a-19a303c69f2d"
      },
      "outputs": [
        {
          "data": {
            "text/html": [
              "<div>\n",
              "<style scoped>\n",
              "    .dataframe tbody tr th:only-of-type {\n",
              "        vertical-align: middle;\n",
              "    }\n",
              "\n",
              "    .dataframe tbody tr th {\n",
              "        vertical-align: top;\n",
              "    }\n",
              "\n",
              "    .dataframe thead th {\n",
              "        text-align: right;\n",
              "    }\n",
              "</style>\n",
              "<table border=\"1\" class=\"dataframe\">\n",
              "  <thead>\n",
              "    <tr style=\"text-align: right;\">\n",
              "      <th></th>\n",
              "      <th>Sixth Sense</th>\n",
              "      <th>Gladiator</th>\n",
              "      <th>LOTR1</th>\n",
              "      <th>Harry Potter1</th>\n",
              "      <th>Patriot</th>\n",
              "      <th>LOTR2</th>\n",
              "      <th>Harry Potter2</th>\n",
              "      <th>LOTR</th>\n",
              "      <th>Braveheart</th>\n",
              "      <th>Green Mile</th>\n",
              "    </tr>\n",
              "  </thead>\n",
              "  <tbody>\n",
              "    <tr>\n",
              "      <th>0</th>\n",
              "      <td>1</td>\n",
              "      <td>0</td>\n",
              "      <td>1</td>\n",
              "      <td>1</td>\n",
              "      <td>0</td>\n",
              "      <td>1</td>\n",
              "      <td>0</td>\n",
              "      <td>0</td>\n",
              "      <td>0</td>\n",
              "      <td>1</td>\n",
              "    </tr>\n",
              "    <tr>\n",
              "      <th>1</th>\n",
              "      <td>0</td>\n",
              "      <td>1</td>\n",
              "      <td>0</td>\n",
              "      <td>0</td>\n",
              "      <td>1</td>\n",
              "      <td>0</td>\n",
              "      <td>0</td>\n",
              "      <td>0</td>\n",
              "      <td>1</td>\n",
              "      <td>0</td>\n",
              "    </tr>\n",
              "    <tr>\n",
              "      <th>2</th>\n",
              "      <td>0</td>\n",
              "      <td>0</td>\n",
              "      <td>1</td>\n",
              "      <td>0</td>\n",
              "      <td>0</td>\n",
              "      <td>1</td>\n",
              "      <td>0</td>\n",
              "      <td>0</td>\n",
              "      <td>0</td>\n",
              "      <td>0</td>\n",
              "    </tr>\n",
              "    <tr>\n",
              "      <th>3</th>\n",
              "      <td>1</td>\n",
              "      <td>1</td>\n",
              "      <td>0</td>\n",
              "      <td>0</td>\n",
              "      <td>1</td>\n",
              "      <td>0</td>\n",
              "      <td>0</td>\n",
              "      <td>0</td>\n",
              "      <td>0</td>\n",
              "      <td>0</td>\n",
              "    </tr>\n",
              "    <tr>\n",
              "      <th>4</th>\n",
              "      <td>1</td>\n",
              "      <td>1</td>\n",
              "      <td>0</td>\n",
              "      <td>0</td>\n",
              "      <td>1</td>\n",
              "      <td>0</td>\n",
              "      <td>0</td>\n",
              "      <td>0</td>\n",
              "      <td>0</td>\n",
              "      <td>0</td>\n",
              "    </tr>\n",
              "    <tr>\n",
              "      <th>5</th>\n",
              "      <td>1</td>\n",
              "      <td>1</td>\n",
              "      <td>0</td>\n",
              "      <td>0</td>\n",
              "      <td>1</td>\n",
              "      <td>0</td>\n",
              "      <td>0</td>\n",
              "      <td>0</td>\n",
              "      <td>0</td>\n",
              "      <td>0</td>\n",
              "    </tr>\n",
              "    <tr>\n",
              "      <th>6</th>\n",
              "      <td>0</td>\n",
              "      <td>0</td>\n",
              "      <td>0</td>\n",
              "      <td>1</td>\n",
              "      <td>0</td>\n",
              "      <td>0</td>\n",
              "      <td>1</td>\n",
              "      <td>0</td>\n",
              "      <td>0</td>\n",
              "      <td>0</td>\n",
              "    </tr>\n",
              "    <tr>\n",
              "      <th>7</th>\n",
              "      <td>0</td>\n",
              "      <td>1</td>\n",
              "      <td>0</td>\n",
              "      <td>0</td>\n",
              "      <td>1</td>\n",
              "      <td>0</td>\n",
              "      <td>0</td>\n",
              "      <td>0</td>\n",
              "      <td>0</td>\n",
              "      <td>0</td>\n",
              "    </tr>\n",
              "    <tr>\n",
              "      <th>8</th>\n",
              "      <td>1</td>\n",
              "      <td>1</td>\n",
              "      <td>0</td>\n",
              "      <td>0</td>\n",
              "      <td>1</td>\n",
              "      <td>0</td>\n",
              "      <td>0</td>\n",
              "      <td>0</td>\n",
              "      <td>0</td>\n",
              "      <td>0</td>\n",
              "    </tr>\n",
              "    <tr>\n",
              "      <th>9</th>\n",
              "      <td>1</td>\n",
              "      <td>1</td>\n",
              "      <td>0</td>\n",
              "      <td>0</td>\n",
              "      <td>0</td>\n",
              "      <td>0</td>\n",
              "      <td>0</td>\n",
              "      <td>1</td>\n",
              "      <td>0</td>\n",
              "      <td>1</td>\n",
              "    </tr>\n",
              "  </tbody>\n",
              "</table>\n",
              "</div>"
            ],
            "text/plain": [
              "   Sixth Sense  Gladiator  LOTR1  Harry Potter1  Patriot  LOTR2  \\\n",
              "0            1          0      1              1        0      1   \n",
              "1            0          1      0              0        1      0   \n",
              "2            0          0      1              0        0      1   \n",
              "3            1          1      0              0        1      0   \n",
              "4            1          1      0              0        1      0   \n",
              "5            1          1      0              0        1      0   \n",
              "6            0          0      0              1        0      0   \n",
              "7            0          1      0              0        1      0   \n",
              "8            1          1      0              0        1      0   \n",
              "9            1          1      0              0        0      0   \n",
              "\n",
              "   Harry Potter2  LOTR  Braveheart  Green Mile  \n",
              "0              0     0           0           1  \n",
              "1              0     0           1           0  \n",
              "2              0     0           0           0  \n",
              "3              0     0           0           0  \n",
              "4              0     0           0           0  \n",
              "5              0     0           0           0  \n",
              "6              1     0           0           0  \n",
              "7              0     0           0           0  \n",
              "8              0     0           0           0  \n",
              "9              0     1           0           1  "
            ]
          },
          "execution_count": 4,
          "metadata": {},
          "output_type": "execute_result"
        }
      ],
      "source": [
        "df1=df.iloc[:,5:]\n",
        "df1"
      ]
    },
    {
      "cell_type": "code",
      "execution_count": 5,
      "metadata": {
        "colab": {
          "base_uri": "https://localhost:8080/"
        },
        "id": "4mFKrWQ7f1Hu",
        "outputId": "37ce4b60-17d8-429e-99d4-b1187f6126f2"
      },
      "outputs": [
        {
          "data": {
            "text/plain": [
              "Sixth Sense\n",
              "1    6\n",
              "0    4\n",
              "Name: count, dtype: int64"
            ]
          },
          "execution_count": 5,
          "metadata": {},
          "output_type": "execute_result"
        }
      ],
      "source": [
        "df['Sixth Sense'].value_counts()"
      ]
    },
    {
      "cell_type": "code",
      "execution_count": 6,
      "metadata": {
        "colab": {
          "base_uri": "https://localhost:8080/"
        },
        "id": "fZtuIO-tf1LR",
        "outputId": "b847108c-493f-44ae-b83b-0cf627e0148d"
      },
      "outputs": [
        {
          "data": {
            "text/plain": [
              "Gladiator\n",
              "1    7\n",
              "0    3\n",
              "Name: count, dtype: int64"
            ]
          },
          "execution_count": 6,
          "metadata": {},
          "output_type": "execute_result"
        }
      ],
      "source": [
        "df['Gladiator'].value_counts()"
      ]
    },
    {
      "cell_type": "code",
      "execution_count": 7,
      "metadata": {
        "colab": {
          "base_uri": "https://localhost:8080/"
        },
        "id": "gyogMgORf1Oh",
        "outputId": "3c6eb80a-befe-491d-8d8a-e173e127f6c2"
      },
      "outputs": [
        {
          "data": {
            "text/plain": [
              "LOTR1\n",
              "0    8\n",
              "1    2\n",
              "Name: count, dtype: int64"
            ]
          },
          "execution_count": 7,
          "metadata": {},
          "output_type": "execute_result"
        }
      ],
      "source": [
        "df['LOTR1'].value_counts()"
      ]
    },
    {
      "cell_type": "code",
      "execution_count": 8,
      "metadata": {
        "colab": {
          "base_uri": "https://localhost:8080/"
        },
        "id": "EDqkBf2ff1Rh",
        "outputId": "73e26ded-e8cc-49ac-d95e-765705f38b3f"
      },
      "outputs": [
        {
          "data": {
            "text/plain": [
              "Harry Potter1\n",
              "0    8\n",
              "1    2\n",
              "Name: count, dtype: int64"
            ]
          },
          "execution_count": 8,
          "metadata": {},
          "output_type": "execute_result"
        }
      ],
      "source": [
        "df['Harry Potter1'].value_counts()\n"
      ]
    },
    {
      "cell_type": "code",
      "execution_count": 9,
      "metadata": {
        "colab": {
          "base_uri": "https://localhost:8080/"
        },
        "id": "s5411xTyf1XV",
        "outputId": "8f71c6d7-21dc-4c79-8ba7-f9a4f31bbe09"
      },
      "outputs": [
        {
          "data": {
            "text/plain": [
              "Patriot\n",
              "1    6\n",
              "0    4\n",
              "Name: count, dtype: int64"
            ]
          },
          "execution_count": 9,
          "metadata": {},
          "output_type": "execute_result"
        }
      ],
      "source": [
        "df['Patriot'].value_counts()\n"
      ]
    },
    {
      "cell_type": "code",
      "execution_count": 10,
      "metadata": {
        "colab": {
          "base_uri": "https://localhost:8080/"
        },
        "id": "IhfURgmUf1at",
        "outputId": "8284584a-c470-4cc3-ff53-799745fc3b67"
      },
      "outputs": [
        {
          "data": {
            "text/plain": [
              "LOTR2\n",
              "0    8\n",
              "1    2\n",
              "Name: count, dtype: int64"
            ]
          },
          "execution_count": 10,
          "metadata": {},
          "output_type": "execute_result"
        }
      ],
      "source": [
        "df['LOTR2'].value_counts()\n"
      ]
    },
    {
      "cell_type": "code",
      "execution_count": 11,
      "metadata": {
        "colab": {
          "base_uri": "https://localhost:8080/"
        },
        "id": "hObzTyLUf1d3",
        "outputId": "576fc938-4bd1-4e41-b9a0-1cb4adc6e784"
      },
      "outputs": [
        {
          "data": {
            "text/plain": [
              "Harry Potter2\n",
              "0    9\n",
              "1    1\n",
              "Name: count, dtype: int64"
            ]
          },
          "execution_count": 11,
          "metadata": {},
          "output_type": "execute_result"
        }
      ],
      "source": [
        "df['Harry Potter2'].value_counts()\n"
      ]
    },
    {
      "cell_type": "code",
      "execution_count": 12,
      "metadata": {
        "colab": {
          "base_uri": "https://localhost:8080/"
        },
        "id": "mxCORHG1lWlW",
        "outputId": "8b211c1f-cb2a-4421-cecc-5e4b5d780366"
      },
      "outputs": [
        {
          "data": {
            "text/plain": [
              "LOTR\n",
              "0    9\n",
              "1    1\n",
              "Name: count, dtype: int64"
            ]
          },
          "execution_count": 12,
          "metadata": {},
          "output_type": "execute_result"
        }
      ],
      "source": [
        "df['LOTR'].value_counts()\n"
      ]
    },
    {
      "cell_type": "code",
      "execution_count": 13,
      "metadata": {
        "colab": {
          "base_uri": "https://localhost:8080/"
        },
        "id": "1vkDOwq1lWp-",
        "outputId": "8e88d8cd-f315-4351-e2fe-32d1de9cd10d"
      },
      "outputs": [
        {
          "data": {
            "text/plain": [
              "Braveheart\n",
              "0    9\n",
              "1    1\n",
              "Name: count, dtype: int64"
            ]
          },
          "execution_count": 13,
          "metadata": {},
          "output_type": "execute_result"
        }
      ],
      "source": [
        "df['Braveheart'].value_counts()\n"
      ]
    },
    {
      "cell_type": "code",
      "execution_count": 14,
      "metadata": {
        "colab": {
          "base_uri": "https://localhost:8080/"
        },
        "id": "xweLCksSlWth",
        "outputId": "46fe17eb-df5f-4ba2-83d6-2c2919ee5498"
      },
      "outputs": [
        {
          "data": {
            "text/plain": [
              "Green Mile\n",
              "0    8\n",
              "1    2\n",
              "Name: count, dtype: int64"
            ]
          },
          "execution_count": 14,
          "metadata": {},
          "output_type": "execute_result"
        }
      ],
      "source": [
        "df['Green Mile'].value_counts()\n"
      ]
    },
    {
      "cell_type": "code",
      "execution_count": 157,
      "metadata": {
        "id": "_vEnnYn0QYQN"
      },
      "outputs": [],
      "source": []
    },
    {
      "cell_type": "code",
      "execution_count": 15,
      "metadata": {
        "colab": {
          "base_uri": "https://localhost:8080/"
        },
        "id": "CS65o3yWlfl_",
        "outputId": "ca45cdd4-f932-4341-c7f7-eed3caa538ea"
      },
      "outputs": [
        {
          "name": "stdout",
          "output_type": "stream",
          "text": [
            "<class 'pandas.core.frame.DataFrame'>\n",
            "RangeIndex: 53 entries, 0 to 52\n",
            "Data columns (total 2 columns):\n",
            " #   Column    Non-Null Count  Dtype  \n",
            "---  ------    --------------  -----  \n",
            " 0   support   53 non-null     float64\n",
            " 1   itemsets  53 non-null     object \n",
            "dtypes: float64(1), object(1)\n",
            "memory usage: 980.0+ bytes\n"
          ]
        },
        {
          "name": "stderr",
          "output_type": "stream",
          "text": [
            "c:\\Users\\chopp\\anaconda3\\Lib\\site-packages\\mlxtend\\frequent_patterns\\fpcommon.py:109: DeprecationWarning: DataFrames with non-bool types result in worse computationalperformance and their support might be discontinued in the future.Please use a DataFrame with bool type\n",
            "  warnings.warn(\n"
          ]
        }
      ],
      "source": [
        "frequent_itemsets=apriori(df1,min_support=0.05,use_colnames=True)\n",
        "frequent_itemsets.info()"
      ]
    },
    {
      "cell_type": "code",
      "execution_count": 16,
      "metadata": {
        "colab": {
          "base_uri": "https://localhost:8080/"
        },
        "id": "weWeAtCSUWKf",
        "outputId": "53e2bac1-a6df-4b77-964b-7cb9ed1d6511"
      },
      "outputs": [
        {
          "name": "stdout",
          "output_type": "stream",
          "text": [
            "<class 'pandas.core.frame.DataFrame'>\n",
            "RangeIndex: 53 entries, 0 to 52\n",
            "Data columns (total 2 columns):\n",
            " #   Column    Non-Null Count  Dtype  \n",
            "---  ------    --------------  -----  \n",
            " 0   support   53 non-null     float64\n",
            " 1   itemsets  53 non-null     object \n",
            "dtypes: float64(1), object(1)\n",
            "memory usage: 980.0+ bytes\n"
          ]
        },
        {
          "name": "stderr",
          "output_type": "stream",
          "text": [
            "c:\\Users\\chopp\\anaconda3\\Lib\\site-packages\\mlxtend\\frequent_patterns\\fpcommon.py:109: DeprecationWarning: DataFrames with non-bool types result in worse computationalperformance and their support might be discontinued in the future.Please use a DataFrame with bool type\n",
            "  warnings.warn(\n"
          ]
        }
      ],
      "source": [
        "frequent_itemsets_1=apriori(df1,min_support=0.08,use_colnames=True)\n",
        "frequent_itemsets_1.info()"
      ]
    },
    {
      "cell_type": "code",
      "execution_count": 17,
      "metadata": {
        "colab": {
          "base_uri": "https://localhost:8080/"
        },
        "id": "O08UORl0UWOF",
        "outputId": "428475d9-00f6-4cee-c6a9-591739df7f9a"
      },
      "outputs": [
        {
          "name": "stdout",
          "output_type": "stream",
          "text": [
            "<class 'pandas.core.frame.DataFrame'>\n",
            "RangeIndex: 53 entries, 0 to 52\n",
            "Data columns (total 2 columns):\n",
            " #   Column    Non-Null Count  Dtype  \n",
            "---  ------    --------------  -----  \n",
            " 0   support   53 non-null     float64\n",
            " 1   itemsets  53 non-null     object \n",
            "dtypes: float64(1), object(1)\n",
            "memory usage: 980.0+ bytes\n"
          ]
        },
        {
          "name": "stderr",
          "output_type": "stream",
          "text": [
            "c:\\Users\\chopp\\anaconda3\\Lib\\site-packages\\mlxtend\\frequent_patterns\\fpcommon.py:109: DeprecationWarning: DataFrames with non-bool types result in worse computationalperformance and their support might be discontinued in the future.Please use a DataFrame with bool type\n",
            "  warnings.warn(\n"
          ]
        }
      ],
      "source": [
        "frequent_itemsets_2=apriori(df1,min_support=0.1,use_colnames=True)\n",
        "frequent_itemsets_2.info()"
      ]
    },
    {
      "cell_type": "code",
      "execution_count": 18,
      "metadata": {
        "colab": {
          "base_uri": "https://localhost:8080/"
        },
        "id": "Z2P60fQhUWVk",
        "outputId": "3ba747ce-1eaf-4bba-d918-1f6d49635811"
      },
      "outputs": [
        {
          "name": "stdout",
          "output_type": "stream",
          "text": [
            "<class 'pandas.core.frame.DataFrame'>\n",
            "RangeIndex: 13 entries, 0 to 12\n",
            "Data columns (total 2 columns):\n",
            " #   Column    Non-Null Count  Dtype  \n",
            "---  ------    --------------  -----  \n",
            " 0   support   13 non-null     float64\n",
            " 1   itemsets  13 non-null     object \n",
            "dtypes: float64(1), object(1)\n",
            "memory usage: 340.0+ bytes\n"
          ]
        },
        {
          "name": "stderr",
          "output_type": "stream",
          "text": [
            "c:\\Users\\chopp\\anaconda3\\Lib\\site-packages\\mlxtend\\frequent_patterns\\fpcommon.py:109: DeprecationWarning: DataFrames with non-bool types result in worse computationalperformance and their support might be discontinued in the future.Please use a DataFrame with bool type\n",
            "  warnings.warn(\n"
          ]
        }
      ],
      "source": [
        "frequent_itemsets_3=apriori(df1,min_support=0.15,use_colnames=True)\n",
        "frequent_itemsets_3.info()"
      ]
    },
    {
      "cell_type": "code",
      "execution_count": 19,
      "metadata": {
        "colab": {
          "base_uri": "https://localhost:8080/",
          "height": 423
        },
        "id": "bCt1NhZWhNAF",
        "outputId": "f2a212ae-289e-4e58-8ae2-85f8daaf6df0"
      },
      "outputs": [
        {
          "data": {
            "text/html": [
              "<div>\n",
              "<style scoped>\n",
              "    .dataframe tbody tr th:only-of-type {\n",
              "        vertical-align: middle;\n",
              "    }\n",
              "\n",
              "    .dataframe tbody tr th {\n",
              "        vertical-align: top;\n",
              "    }\n",
              "\n",
              "    .dataframe thead th {\n",
              "        text-align: right;\n",
              "    }\n",
              "</style>\n",
              "<table border=\"1\" class=\"dataframe\">\n",
              "  <thead>\n",
              "    <tr style=\"text-align: right;\">\n",
              "      <th></th>\n",
              "      <th>antecedents</th>\n",
              "      <th>consequents</th>\n",
              "      <th>antecedent support</th>\n",
              "      <th>consequent support</th>\n",
              "      <th>support</th>\n",
              "      <th>confidence</th>\n",
              "      <th>lift</th>\n",
              "      <th>leverage</th>\n",
              "      <th>conviction</th>\n",
              "      <th>zhangs_metric</th>\n",
              "    </tr>\n",
              "  </thead>\n",
              "  <tbody>\n",
              "    <tr>\n",
              "      <th>0</th>\n",
              "      <td>(Sixth Sense)</td>\n",
              "      <td>(Gladiator)</td>\n",
              "      <td>0.6</td>\n",
              "      <td>0.7</td>\n",
              "      <td>0.5</td>\n",
              "      <td>0.833333</td>\n",
              "      <td>1.190476</td>\n",
              "      <td>0.08</td>\n",
              "      <td>1.80</td>\n",
              "      <td>0.400000</td>\n",
              "    </tr>\n",
              "    <tr>\n",
              "      <th>1</th>\n",
              "      <td>(Gladiator)</td>\n",
              "      <td>(Sixth Sense)</td>\n",
              "      <td>0.7</td>\n",
              "      <td>0.6</td>\n",
              "      <td>0.5</td>\n",
              "      <td>0.714286</td>\n",
              "      <td>1.190476</td>\n",
              "      <td>0.08</td>\n",
              "      <td>1.40</td>\n",
              "      <td>0.533333</td>\n",
              "    </tr>\n",
              "    <tr>\n",
              "      <th>2</th>\n",
              "      <td>(Sixth Sense)</td>\n",
              "      <td>(LOTR1)</td>\n",
              "      <td>0.6</td>\n",
              "      <td>0.2</td>\n",
              "      <td>0.1</td>\n",
              "      <td>0.166667</td>\n",
              "      <td>0.833333</td>\n",
              "      <td>-0.02</td>\n",
              "      <td>0.96</td>\n",
              "      <td>-0.333333</td>\n",
              "    </tr>\n",
              "    <tr>\n",
              "      <th>3</th>\n",
              "      <td>(LOTR1)</td>\n",
              "      <td>(Sixth Sense)</td>\n",
              "      <td>0.2</td>\n",
              "      <td>0.6</td>\n",
              "      <td>0.1</td>\n",
              "      <td>0.500000</td>\n",
              "      <td>0.833333</td>\n",
              "      <td>-0.02</td>\n",
              "      <td>0.80</td>\n",
              "      <td>-0.200000</td>\n",
              "    </tr>\n",
              "    <tr>\n",
              "      <th>4</th>\n",
              "      <td>(Sixth Sense)</td>\n",
              "      <td>(Harry Potter1)</td>\n",
              "      <td>0.6</td>\n",
              "      <td>0.2</td>\n",
              "      <td>0.1</td>\n",
              "      <td>0.166667</td>\n",
              "      <td>0.833333</td>\n",
              "      <td>-0.02</td>\n",
              "      <td>0.96</td>\n",
              "      <td>-0.333333</td>\n",
              "    </tr>\n",
              "    <tr>\n",
              "      <th>...</th>\n",
              "      <td>...</td>\n",
              "      <td>...</td>\n",
              "      <td>...</td>\n",
              "      <td>...</td>\n",
              "      <td>...</td>\n",
              "      <td>...</td>\n",
              "      <td>...</td>\n",
              "      <td>...</td>\n",
              "      <td>...</td>\n",
              "      <td>...</td>\n",
              "    </tr>\n",
              "    <tr>\n",
              "      <th>241</th>\n",
              "      <td>(Harry Potter1)</td>\n",
              "      <td>(Green Mile, LOTR1, Sixth Sense, LOTR2)</td>\n",
              "      <td>0.2</td>\n",
              "      <td>0.1</td>\n",
              "      <td>0.1</td>\n",
              "      <td>0.500000</td>\n",
              "      <td>5.000000</td>\n",
              "      <td>0.08</td>\n",
              "      <td>1.80</td>\n",
              "      <td>1.000000</td>\n",
              "    </tr>\n",
              "    <tr>\n",
              "      <th>242</th>\n",
              "      <td>(LOTR1)</td>\n",
              "      <td>(Green Mile, Harry Potter1, Sixth Sense, LOTR2)</td>\n",
              "      <td>0.2</td>\n",
              "      <td>0.1</td>\n",
              "      <td>0.1</td>\n",
              "      <td>0.500000</td>\n",
              "      <td>5.000000</td>\n",
              "      <td>0.08</td>\n",
              "      <td>1.80</td>\n",
              "      <td>1.000000</td>\n",
              "    </tr>\n",
              "    <tr>\n",
              "      <th>243</th>\n",
              "      <td>(LOTR2)</td>\n",
              "      <td>(Green Mile, Harry Potter1, Sixth Sense, LOTR1)</td>\n",
              "      <td>0.2</td>\n",
              "      <td>0.1</td>\n",
              "      <td>0.1</td>\n",
              "      <td>0.500000</td>\n",
              "      <td>5.000000</td>\n",
              "      <td>0.08</td>\n",
              "      <td>1.80</td>\n",
              "      <td>1.000000</td>\n",
              "    </tr>\n",
              "    <tr>\n",
              "      <th>244</th>\n",
              "      <td>(Sixth Sense)</td>\n",
              "      <td>(Harry Potter1, LOTR2, Green Mile, LOTR1)</td>\n",
              "      <td>0.6</td>\n",
              "      <td>0.1</td>\n",
              "      <td>0.1</td>\n",
              "      <td>0.166667</td>\n",
              "      <td>1.666667</td>\n",
              "      <td>0.04</td>\n",
              "      <td>1.08</td>\n",
              "      <td>1.000000</td>\n",
              "    </tr>\n",
              "    <tr>\n",
              "      <th>245</th>\n",
              "      <td>(Green Mile)</td>\n",
              "      <td>(Harry Potter1, LOTR2, Sixth Sense, LOTR1)</td>\n",
              "      <td>0.2</td>\n",
              "      <td>0.1</td>\n",
              "      <td>0.1</td>\n",
              "      <td>0.500000</td>\n",
              "      <td>5.000000</td>\n",
              "      <td>0.08</td>\n",
              "      <td>1.80</td>\n",
              "      <td>1.000000</td>\n",
              "    </tr>\n",
              "  </tbody>\n",
              "</table>\n",
              "<p>246 rows × 10 columns</p>\n",
              "</div>"
            ],
            "text/plain": [
              "         antecedents                                      consequents  \\\n",
              "0      (Sixth Sense)                                      (Gladiator)   \n",
              "1        (Gladiator)                                    (Sixth Sense)   \n",
              "2      (Sixth Sense)                                          (LOTR1)   \n",
              "3            (LOTR1)                                    (Sixth Sense)   \n",
              "4      (Sixth Sense)                                  (Harry Potter1)   \n",
              "..               ...                                              ...   \n",
              "241  (Harry Potter1)          (Green Mile, LOTR1, Sixth Sense, LOTR2)   \n",
              "242          (LOTR1)  (Green Mile, Harry Potter1, Sixth Sense, LOTR2)   \n",
              "243          (LOTR2)  (Green Mile, Harry Potter1, Sixth Sense, LOTR1)   \n",
              "244    (Sixth Sense)        (Harry Potter1, LOTR2, Green Mile, LOTR1)   \n",
              "245     (Green Mile)       (Harry Potter1, LOTR2, Sixth Sense, LOTR1)   \n",
              "\n",
              "     antecedent support  consequent support  support  confidence      lift  \\\n",
              "0                   0.6                 0.7      0.5    0.833333  1.190476   \n",
              "1                   0.7                 0.6      0.5    0.714286  1.190476   \n",
              "2                   0.6                 0.2      0.1    0.166667  0.833333   \n",
              "3                   0.2                 0.6      0.1    0.500000  0.833333   \n",
              "4                   0.6                 0.2      0.1    0.166667  0.833333   \n",
              "..                  ...                 ...      ...         ...       ...   \n",
              "241                 0.2                 0.1      0.1    0.500000  5.000000   \n",
              "242                 0.2                 0.1      0.1    0.500000  5.000000   \n",
              "243                 0.2                 0.1      0.1    0.500000  5.000000   \n",
              "244                 0.6                 0.1      0.1    0.166667  1.666667   \n",
              "245                 0.2                 0.1      0.1    0.500000  5.000000   \n",
              "\n",
              "     leverage  conviction  zhangs_metric  \n",
              "0        0.08        1.80       0.400000  \n",
              "1        0.08        1.40       0.533333  \n",
              "2       -0.02        0.96      -0.333333  \n",
              "3       -0.02        0.80      -0.200000  \n",
              "4       -0.02        0.96      -0.333333  \n",
              "..        ...         ...            ...  \n",
              "241      0.08        1.80       1.000000  \n",
              "242      0.08        1.80       1.000000  \n",
              "243      0.08        1.80       1.000000  \n",
              "244      0.04        1.08       1.000000  \n",
              "245      0.08        1.80       1.000000  \n",
              "\n",
              "[246 rows x 10 columns]"
            ]
          },
          "execution_count": 19,
          "metadata": {},
          "output_type": "execute_result"
        }
      ],
      "source": [
        "rules=association_rules(frequent_itemsets,metric=\"lift\")\n",
        "rules"
      ]
    },
    {
      "cell_type": "code",
      "execution_count": 20,
      "metadata": {
        "colab": {
          "base_uri": "https://localhost:8080/",
          "height": 423
        },
        "id": "TiIMofFThNDd",
        "outputId": "01b1cd0a-e7b2-44f8-f41a-f3ae16604a19"
      },
      "outputs": [
        {
          "data": {
            "text/html": [
              "<div>\n",
              "<style scoped>\n",
              "    .dataframe tbody tr th:only-of-type {\n",
              "        vertical-align: middle;\n",
              "    }\n",
              "\n",
              "    .dataframe tbody tr th {\n",
              "        vertical-align: top;\n",
              "    }\n",
              "\n",
              "    .dataframe thead th {\n",
              "        text-align: right;\n",
              "    }\n",
              "</style>\n",
              "<table border=\"1\" class=\"dataframe\">\n",
              "  <thead>\n",
              "    <tr style=\"text-align: right;\">\n",
              "      <th></th>\n",
              "      <th>antecedents</th>\n",
              "      <th>consequents</th>\n",
              "      <th>antecedent support</th>\n",
              "      <th>consequent support</th>\n",
              "      <th>support</th>\n",
              "      <th>confidence</th>\n",
              "      <th>lift</th>\n",
              "      <th>leverage</th>\n",
              "      <th>conviction</th>\n",
              "      <th>zhangs_metric</th>\n",
              "    </tr>\n",
              "  </thead>\n",
              "  <tbody>\n",
              "    <tr>\n",
              "      <th>135</th>\n",
              "      <td>(Sixth Sense, Gladiator, Green Mile)</td>\n",
              "      <td>(LOTR)</td>\n",
              "      <td>0.1</td>\n",
              "      <td>0.1</td>\n",
              "      <td>0.1</td>\n",
              "      <td>1.000000</td>\n",
              "      <td>10.000000</td>\n",
              "      <td>0.09</td>\n",
              "      <td>inf</td>\n",
              "      <td>1.000000</td>\n",
              "    </tr>\n",
              "    <tr>\n",
              "      <th>104</th>\n",
              "      <td>(Gladiator, Green Mile)</td>\n",
              "      <td>(LOTR)</td>\n",
              "      <td>0.1</td>\n",
              "      <td>0.1</td>\n",
              "      <td>0.1</td>\n",
              "      <td>1.000000</td>\n",
              "      <td>10.000000</td>\n",
              "      <td>0.09</td>\n",
              "      <td>inf</td>\n",
              "      <td>1.000000</td>\n",
              "    </tr>\n",
              "    <tr>\n",
              "      <th>210</th>\n",
              "      <td>(Harry Potter1, LOTR2)</td>\n",
              "      <td>(LOTR1, Green Mile)</td>\n",
              "      <td>0.1</td>\n",
              "      <td>0.1</td>\n",
              "      <td>0.1</td>\n",
              "      <td>1.000000</td>\n",
              "      <td>10.000000</td>\n",
              "      <td>0.09</td>\n",
              "      <td>inf</td>\n",
              "      <td>1.000000</td>\n",
              "    </tr>\n",
              "    <tr>\n",
              "      <th>207</th>\n",
              "      <td>(LOTR1, Green Mile)</td>\n",
              "      <td>(Harry Potter1, LOTR2)</td>\n",
              "      <td>0.1</td>\n",
              "      <td>0.1</td>\n",
              "      <td>0.1</td>\n",
              "      <td>1.000000</td>\n",
              "      <td>10.000000</td>\n",
              "      <td>0.09</td>\n",
              "      <td>inf</td>\n",
              "      <td>1.000000</td>\n",
              "    </tr>\n",
              "    <tr>\n",
              "      <th>206</th>\n",
              "      <td>(LOTR1, Harry Potter1)</td>\n",
              "      <td>(Green Mile, LOTR2)</td>\n",
              "      <td>0.1</td>\n",
              "      <td>0.1</td>\n",
              "      <td>0.1</td>\n",
              "      <td>1.000000</td>\n",
              "      <td>10.000000</td>\n",
              "      <td>0.09</td>\n",
              "      <td>inf</td>\n",
              "      <td>1.000000</td>\n",
              "    </tr>\n",
              "    <tr>\n",
              "      <th>...</th>\n",
              "      <td>...</td>\n",
              "      <td>...</td>\n",
              "      <td>...</td>\n",
              "      <td>...</td>\n",
              "      <td>...</td>\n",
              "      <td>...</td>\n",
              "      <td>...</td>\n",
              "      <td>...</td>\n",
              "      <td>...</td>\n",
              "      <td>...</td>\n",
              "    </tr>\n",
              "    <tr>\n",
              "      <th>5</th>\n",
              "      <td>(Harry Potter1)</td>\n",
              "      <td>(Sixth Sense)</td>\n",
              "      <td>0.2</td>\n",
              "      <td>0.6</td>\n",
              "      <td>0.1</td>\n",
              "      <td>0.500000</td>\n",
              "      <td>0.833333</td>\n",
              "      <td>-0.02</td>\n",
              "      <td>0.80</td>\n",
              "      <td>-0.200000</td>\n",
              "    </tr>\n",
              "    <tr>\n",
              "      <th>4</th>\n",
              "      <td>(Sixth Sense)</td>\n",
              "      <td>(Harry Potter1)</td>\n",
              "      <td>0.6</td>\n",
              "      <td>0.2</td>\n",
              "      <td>0.1</td>\n",
              "      <td>0.166667</td>\n",
              "      <td>0.833333</td>\n",
              "      <td>-0.02</td>\n",
              "      <td>0.96</td>\n",
              "      <td>-0.333333</td>\n",
              "    </tr>\n",
              "    <tr>\n",
              "      <th>3</th>\n",
              "      <td>(LOTR1)</td>\n",
              "      <td>(Sixth Sense)</td>\n",
              "      <td>0.2</td>\n",
              "      <td>0.6</td>\n",
              "      <td>0.1</td>\n",
              "      <td>0.500000</td>\n",
              "      <td>0.833333</td>\n",
              "      <td>-0.02</td>\n",
              "      <td>0.80</td>\n",
              "      <td>-0.200000</td>\n",
              "    </tr>\n",
              "    <tr>\n",
              "      <th>2</th>\n",
              "      <td>(Sixth Sense)</td>\n",
              "      <td>(LOTR1)</td>\n",
              "      <td>0.6</td>\n",
              "      <td>0.2</td>\n",
              "      <td>0.1</td>\n",
              "      <td>0.166667</td>\n",
              "      <td>0.833333</td>\n",
              "      <td>-0.02</td>\n",
              "      <td>0.96</td>\n",
              "      <td>-0.333333</td>\n",
              "    </tr>\n",
              "    <tr>\n",
              "      <th>63</th>\n",
              "      <td>(Sixth Sense)</td>\n",
              "      <td>(LOTR1, LOTR2)</td>\n",
              "      <td>0.6</td>\n",
              "      <td>0.2</td>\n",
              "      <td>0.1</td>\n",
              "      <td>0.166667</td>\n",
              "      <td>0.833333</td>\n",
              "      <td>-0.02</td>\n",
              "      <td>0.96</td>\n",
              "      <td>-0.333333</td>\n",
              "    </tr>\n",
              "  </tbody>\n",
              "</table>\n",
              "<p>246 rows × 10 columns</p>\n",
              "</div>"
            ],
            "text/plain": [
              "                              antecedents             consequents  \\\n",
              "135  (Sixth Sense, Gladiator, Green Mile)                  (LOTR)   \n",
              "104               (Gladiator, Green Mile)                  (LOTR)   \n",
              "210                (Harry Potter1, LOTR2)     (LOTR1, Green Mile)   \n",
              "207                   (LOTR1, Green Mile)  (Harry Potter1, LOTR2)   \n",
              "206                (LOTR1, Harry Potter1)     (Green Mile, LOTR2)   \n",
              "..                                    ...                     ...   \n",
              "5                         (Harry Potter1)           (Sixth Sense)   \n",
              "4                           (Sixth Sense)         (Harry Potter1)   \n",
              "3                                 (LOTR1)           (Sixth Sense)   \n",
              "2                           (Sixth Sense)                 (LOTR1)   \n",
              "63                          (Sixth Sense)          (LOTR1, LOTR2)   \n",
              "\n",
              "     antecedent support  consequent support  support  confidence       lift  \\\n",
              "135                 0.1                 0.1      0.1    1.000000  10.000000   \n",
              "104                 0.1                 0.1      0.1    1.000000  10.000000   \n",
              "210                 0.1                 0.1      0.1    1.000000  10.000000   \n",
              "207                 0.1                 0.1      0.1    1.000000  10.000000   \n",
              "206                 0.1                 0.1      0.1    1.000000  10.000000   \n",
              "..                  ...                 ...      ...         ...        ...   \n",
              "5                   0.2                 0.6      0.1    0.500000   0.833333   \n",
              "4                   0.6                 0.2      0.1    0.166667   0.833333   \n",
              "3                   0.2                 0.6      0.1    0.500000   0.833333   \n",
              "2                   0.6                 0.2      0.1    0.166667   0.833333   \n",
              "63                  0.6                 0.2      0.1    0.166667   0.833333   \n",
              "\n",
              "     leverage  conviction  zhangs_metric  \n",
              "135      0.09         inf       1.000000  \n",
              "104      0.09         inf       1.000000  \n",
              "210      0.09         inf       1.000000  \n",
              "207      0.09         inf       1.000000  \n",
              "206      0.09         inf       1.000000  \n",
              "..        ...         ...            ...  \n",
              "5       -0.02        0.80      -0.200000  \n",
              "4       -0.02        0.96      -0.333333  \n",
              "3       -0.02        0.80      -0.200000  \n",
              "2       -0.02        0.96      -0.333333  \n",
              "63      -0.02        0.96      -0.333333  \n",
              "\n",
              "[246 rows x 10 columns]"
            ]
          },
          "execution_count": 20,
          "metadata": {},
          "output_type": "execute_result"
        }
      ],
      "source": [
        "rules.sort_values(by='lift',ascending=False)"
      ]
    },
    {
      "cell_type": "code",
      "execution_count": 21,
      "metadata": {
        "colab": {
          "base_uri": "https://localhost:8080/",
          "height": 1000
        },
        "id": "s_FgWw6ehNGf",
        "outputId": "dff0cc0b-6044-4aaa-92a8-13106f8ddda0"
      },
      "outputs": [
        {
          "data": {
            "image/png": "[encoded data removed]",
            "text/plain": [
              "<Figure size 1500x1500 with 4 Axes>"
            ]
          },
          "metadata": {},
          "output_type": "display_data"
        }
      ],
      "source": [
        "rules[['support','confidence','lift']].hist(figsize=(15,15))\n",
        "plt.show()"
      ]
    },
    {
      "cell_type": "code",
      "execution_count": 22,
      "metadata": {
        "colab": {
          "base_uri": "https://localhost:8080/",
          "height": 445
        },
        "id": "gGyMmaYchNJz",
        "outputId": "410906fe-d13a-46b2-8af1-06b18cdbffcc"
      },
      "outputs": [
        {
          "data": {
            "image/png": "[encoded data removed]",
            "text/plain": [
              "<Figure size 1500x500 with 1 Axes>"
            ]
          },
          "metadata": {},
          "output_type": "display_data"
        }
      ],
      "source": [
        "rules[['support']].boxplot(figsize=(15,5))\n",
        "plt.show()"
      ]
    },
    {
      "cell_type": "code",
      "execution_count": 23,
      "metadata": {
        "colab": {
          "base_uri": "https://localhost:8080/",
          "height": 445
        },
        "id": "1FC82aqphNM_",
        "outputId": "6a873e28-0770-4790-fe7e-d80862b23895"
      },
      "outputs": [
        {
          "data": {
            "image/png": "[encoded data removed]",
            "text/plain": [
              "<Figure size 1500x500 with 1 Axes>"
            ]
          },
          "metadata": {},
          "output_type": "display_data"
        }
      ],
      "source": [
        "rules[['confidence']].boxplot(figsize=(15,5))\n",
        "plt.show()"
      ]
    },
    {
      "cell_type": "code",
      "execution_count": 24,
      "metadata": {
        "colab": {
          "base_uri": "https://localhost:8080/",
          "height": 445
        },
        "id": "oyWY9rKBhNT7",
        "outputId": "c6930a64-a336-495b-f3e2-6cc043bb6405"
      },
      "outputs": [
        {
          "data": {
            "image/png": "[encoded data removed]",
            "text/plain": [
              "<Figure size 1500x500 with 1 Axes>"
            ]
          },
          "metadata": {},
          "output_type": "display_data"
        }
      ],
      "source": [
        "rules[['lift']].boxplot(figsize=(15,5))\n",
        "plt.show()"
      ]
    },
    {
      "cell_type": "code",
      "execution_count": 25,
      "metadata": {
        "colab": {
          "base_uri": "https://localhost:8080/",
          "height": 430
        },
        "id": "U05k5sX0hNZl",
        "outputId": "4c404513-9026-4076-fb73-02f3c5b21d11"
      },
      "outputs": [
        {
          "data": {
            "image/png": "[encoded data removed]",
            "text/plain": [
              "<Figure size 640x480 with 1 Axes>"
            ]
          },
          "metadata": {},
          "output_type": "display_data"
        }
      ],
      "source": [
        "plt.scatter(rules['support'],rules['confidence'])\n",
        "plt.show()"
      ]
    },
    {
      "cell_type": "code",
      "execution_count": 26,
      "metadata": {
        "colab": {
          "base_uri": "https://localhost:8080/",
          "height": 430
        },
        "id": "I11n1EQahfTV",
        "outputId": "b3220acb-472d-423b-9bbd-dd1800c3f7c9"
      },
      "outputs": [
        {
          "data": {
            "image/png": "[encoded data removed]",
            "text/plain": [
              "<Figure size 640x480 with 1 Axes>"
            ]
          },
          "metadata": {},
          "output_type": "display_data"
        }
      ],
      "source": [
        "plt.scatter(rules['confidence'],rules['lift'])\n",
        "plt.show()"
      ]
    },
    {
      "cell_type": "code",
      "execution_count": 27,
      "metadata": {
        "colab": {
          "base_uri": "https://localhost:8080/",
          "height": 430
        },
        "id": "84jYGHdUhfcs",
        "outputId": "1406e07d-1174-4c7d-b0c0-a3e5ca7f08d2"
      },
      "outputs": [
        {
          "data": {
            "image/png": "[encoded data removed]",
            "text/plain": [
              "<Figure size 640x480 with 1 Axes>"
            ]
          },
          "metadata": {},
          "output_type": "display_data"
        }
      ],
      "source": [
        "plt.scatter(rules['lift'],rules['support'])\n",
        "plt.show()"
      ]
    },
    {
      "cell_type": "code",
      "execution_count": 28,
      "metadata": {
        "colab": {
          "base_uri": "https://localhost:8080/",
          "height": 551
        },
        "id": "4gG93-tIlfqO",
        "outputId": "2e5ce2c2-26b9-463b-be5e-8eb60b616978"
      },
      "outputs": [
        {
          "data": {
            "text/html": [
              "<div>\n",
              "<style scoped>\n",
              "    .dataframe tbody tr th:only-of-type {\n",
              "        vertical-align: middle;\n",
              "    }\n",
              "\n",
              "    .dataframe tbody tr th {\n",
              "        vertical-align: top;\n",
              "    }\n",
              "\n",
              "    .dataframe thead th {\n",
              "        text-align: right;\n",
              "    }\n",
              "</style>\n",
              "<table border=\"1\" class=\"dataframe\">\n",
              "  <thead>\n",
              "    <tr style=\"text-align: right;\">\n",
              "      <th></th>\n",
              "      <th>antecedents</th>\n",
              "      <th>consequents</th>\n",
              "      <th>antecedent support</th>\n",
              "      <th>consequent support</th>\n",
              "      <th>support</th>\n",
              "      <th>confidence</th>\n",
              "      <th>lift</th>\n",
              "      <th>leverage</th>\n",
              "      <th>conviction</th>\n",
              "      <th>zhangs_metric</th>\n",
              "    </tr>\n",
              "  </thead>\n",
              "  <tbody>\n",
              "    <tr>\n",
              "      <th>0</th>\n",
              "      <td>(Sixth Sense)</td>\n",
              "      <td>(Gladiator)</td>\n",
              "      <td>0.6</td>\n",
              "      <td>0.7</td>\n",
              "      <td>0.5</td>\n",
              "      <td>0.833333</td>\n",
              "      <td>1.190476</td>\n",
              "      <td>0.08</td>\n",
              "      <td>1.8</td>\n",
              "      <td>0.400000</td>\n",
              "    </tr>\n",
              "    <tr>\n",
              "      <th>1</th>\n",
              "      <td>(Gladiator)</td>\n",
              "      <td>(Sixth Sense)</td>\n",
              "      <td>0.7</td>\n",
              "      <td>0.6</td>\n",
              "      <td>0.5</td>\n",
              "      <td>0.714286</td>\n",
              "      <td>1.190476</td>\n",
              "      <td>0.08</td>\n",
              "      <td>1.4</td>\n",
              "      <td>0.533333</td>\n",
              "    </tr>\n",
              "    <tr>\n",
              "      <th>2</th>\n",
              "      <td>(Patriot)</td>\n",
              "      <td>(Sixth Sense)</td>\n",
              "      <td>0.6</td>\n",
              "      <td>0.6</td>\n",
              "      <td>0.4</td>\n",
              "      <td>0.666667</td>\n",
              "      <td>1.111111</td>\n",
              "      <td>0.04</td>\n",
              "      <td>1.2</td>\n",
              "      <td>0.250000</td>\n",
              "    </tr>\n",
              "    <tr>\n",
              "      <th>3</th>\n",
              "      <td>(Sixth Sense)</td>\n",
              "      <td>(Patriot)</td>\n",
              "      <td>0.6</td>\n",
              "      <td>0.6</td>\n",
              "      <td>0.4</td>\n",
              "      <td>0.666667</td>\n",
              "      <td>1.111111</td>\n",
              "      <td>0.04</td>\n",
              "      <td>1.2</td>\n",
              "      <td>0.250000</td>\n",
              "    </tr>\n",
              "    <tr>\n",
              "      <th>4</th>\n",
              "      <td>(Sixth Sense)</td>\n",
              "      <td>(Green Mile)</td>\n",
              "      <td>0.6</td>\n",
              "      <td>0.2</td>\n",
              "      <td>0.2</td>\n",
              "      <td>0.333333</td>\n",
              "      <td>1.666667</td>\n",
              "      <td>0.08</td>\n",
              "      <td>1.2</td>\n",
              "      <td>1.000000</td>\n",
              "    </tr>\n",
              "    <tr>\n",
              "      <th>5</th>\n",
              "      <td>(Green Mile)</td>\n",
              "      <td>(Sixth Sense)</td>\n",
              "      <td>0.2</td>\n",
              "      <td>0.6</td>\n",
              "      <td>0.2</td>\n",
              "      <td>1.000000</td>\n",
              "      <td>1.666667</td>\n",
              "      <td>0.08</td>\n",
              "      <td>inf</td>\n",
              "      <td>0.500000</td>\n",
              "    </tr>\n",
              "    <tr>\n",
              "      <th>6</th>\n",
              "      <td>(Patriot)</td>\n",
              "      <td>(Gladiator)</td>\n",
              "      <td>0.6</td>\n",
              "      <td>0.7</td>\n",
              "      <td>0.6</td>\n",
              "      <td>1.000000</td>\n",
              "      <td>1.428571</td>\n",
              "      <td>0.18</td>\n",
              "      <td>inf</td>\n",
              "      <td>0.750000</td>\n",
              "    </tr>\n",
              "    <tr>\n",
              "      <th>7</th>\n",
              "      <td>(Gladiator)</td>\n",
              "      <td>(Patriot)</td>\n",
              "      <td>0.7</td>\n",
              "      <td>0.6</td>\n",
              "      <td>0.6</td>\n",
              "      <td>0.857143</td>\n",
              "      <td>1.428571</td>\n",
              "      <td>0.18</td>\n",
              "      <td>2.8</td>\n",
              "      <td>1.000000</td>\n",
              "    </tr>\n",
              "    <tr>\n",
              "      <th>8</th>\n",
              "      <td>(LOTR1)</td>\n",
              "      <td>(LOTR2)</td>\n",
              "      <td>0.2</td>\n",
              "      <td>0.2</td>\n",
              "      <td>0.2</td>\n",
              "      <td>1.000000</td>\n",
              "      <td>5.000000</td>\n",
              "      <td>0.16</td>\n",
              "      <td>inf</td>\n",
              "      <td>1.000000</td>\n",
              "    </tr>\n",
              "    <tr>\n",
              "      <th>9</th>\n",
              "      <td>(LOTR2)</td>\n",
              "      <td>(LOTR1)</td>\n",
              "      <td>0.2</td>\n",
              "      <td>0.2</td>\n",
              "      <td>0.2</td>\n",
              "      <td>1.000000</td>\n",
              "      <td>5.000000</td>\n",
              "      <td>0.16</td>\n",
              "      <td>inf</td>\n",
              "      <td>1.000000</td>\n",
              "    </tr>\n",
              "    <tr>\n",
              "      <th>10</th>\n",
              "      <td>(Patriot, Sixth Sense)</td>\n",
              "      <td>(Gladiator)</td>\n",
              "      <td>0.4</td>\n",
              "      <td>0.7</td>\n",
              "      <td>0.4</td>\n",
              "      <td>1.000000</td>\n",
              "      <td>1.428571</td>\n",
              "      <td>0.12</td>\n",
              "      <td>inf</td>\n",
              "      <td>0.500000</td>\n",
              "    </tr>\n",
              "    <tr>\n",
              "      <th>11</th>\n",
              "      <td>(Patriot, Gladiator)</td>\n",
              "      <td>(Sixth Sense)</td>\n",
              "      <td>0.6</td>\n",
              "      <td>0.6</td>\n",
              "      <td>0.4</td>\n",
              "      <td>0.666667</td>\n",
              "      <td>1.111111</td>\n",
              "      <td>0.04</td>\n",
              "      <td>1.2</td>\n",
              "      <td>0.250000</td>\n",
              "    </tr>\n",
              "    <tr>\n",
              "      <th>12</th>\n",
              "      <td>(Sixth Sense, Gladiator)</td>\n",
              "      <td>(Patriot)</td>\n",
              "      <td>0.5</td>\n",
              "      <td>0.6</td>\n",
              "      <td>0.4</td>\n",
              "      <td>0.800000</td>\n",
              "      <td>1.333333</td>\n",
              "      <td>0.10</td>\n",
              "      <td>2.0</td>\n",
              "      <td>0.500000</td>\n",
              "    </tr>\n",
              "    <tr>\n",
              "      <th>13</th>\n",
              "      <td>(Patriot)</td>\n",
              "      <td>(Sixth Sense, Gladiator)</td>\n",
              "      <td>0.6</td>\n",
              "      <td>0.5</td>\n",
              "      <td>0.4</td>\n",
              "      <td>0.666667</td>\n",
              "      <td>1.333333</td>\n",
              "      <td>0.10</td>\n",
              "      <td>1.5</td>\n",
              "      <td>0.625000</td>\n",
              "    </tr>\n",
              "    <tr>\n",
              "      <th>14</th>\n",
              "      <td>(Sixth Sense)</td>\n",
              "      <td>(Patriot, Gladiator)</td>\n",
              "      <td>0.6</td>\n",
              "      <td>0.6</td>\n",
              "      <td>0.4</td>\n",
              "      <td>0.666667</td>\n",
              "      <td>1.111111</td>\n",
              "      <td>0.04</td>\n",
              "      <td>1.2</td>\n",
              "      <td>0.250000</td>\n",
              "    </tr>\n",
              "    <tr>\n",
              "      <th>15</th>\n",
              "      <td>(Gladiator)</td>\n",
              "      <td>(Patriot, Sixth Sense)</td>\n",
              "      <td>0.7</td>\n",
              "      <td>0.4</td>\n",
              "      <td>0.4</td>\n",
              "      <td>0.571429</td>\n",
              "      <td>1.428571</td>\n",
              "      <td>0.12</td>\n",
              "      <td>1.4</td>\n",
              "      <td>1.000000</td>\n",
              "    </tr>\n",
              "  </tbody>\n",
              "</table>\n",
              "</div>"
            ],
            "text/plain": [
              "                 antecedents               consequents  antecedent support  \\\n",
              "0              (Sixth Sense)               (Gladiator)                 0.6   \n",
              "1                (Gladiator)             (Sixth Sense)                 0.7   \n",
              "2                  (Patriot)             (Sixth Sense)                 0.6   \n",
              "3              (Sixth Sense)                 (Patriot)                 0.6   \n",
              "4              (Sixth Sense)              (Green Mile)                 0.6   \n",
              "5               (Green Mile)             (Sixth Sense)                 0.2   \n",
              "6                  (Patriot)               (Gladiator)                 0.6   \n",
              "7                (Gladiator)                 (Patriot)                 0.7   \n",
              "8                    (LOTR1)                   (LOTR2)                 0.2   \n",
              "9                    (LOTR2)                   (LOTR1)                 0.2   \n",
              "10    (Patriot, Sixth Sense)               (Gladiator)                 0.4   \n",
              "11      (Patriot, Gladiator)             (Sixth Sense)                 0.6   \n",
              "12  (Sixth Sense, Gladiator)                 (Patriot)                 0.5   \n",
              "13                 (Patriot)  (Sixth Sense, Gladiator)                 0.6   \n",
              "14             (Sixth Sense)      (Patriot, Gladiator)                 0.6   \n",
              "15               (Gladiator)    (Patriot, Sixth Sense)                 0.7   \n",
              "\n",
              "    consequent support  support  confidence      lift  leverage  conviction  \\\n",
              "0                  0.7      0.5    0.833333  1.190476      0.08         1.8   \n",
              "1                  0.6      0.5    0.714286  1.190476      0.08         1.4   \n",
              "2                  0.6      0.4    0.666667  1.111111      0.04         1.2   \n",
              "3                  0.6      0.4    0.666667  1.111111      0.04         1.2   \n",
              "4                  0.2      0.2    0.333333  1.666667      0.08         1.2   \n",
              "5                  0.6      0.2    1.000000  1.666667      0.08         inf   \n",
              "6                  0.7      0.6    1.000000  1.428571      0.18         inf   \n",
              "7                  0.6      0.6    0.857143  1.428571      0.18         2.8   \n",
              "8                  0.2      0.2    1.000000  5.000000      0.16         inf   \n",
              "9                  0.2      0.2    1.000000  5.000000      0.16         inf   \n",
              "10                 0.7      0.4    1.000000  1.428571      0.12         inf   \n",
              "11                 0.6      0.4    0.666667  1.111111      0.04         1.2   \n",
              "12                 0.6      0.4    0.800000  1.333333      0.10         2.0   \n",
              "13                 0.5      0.4    0.666667  1.333333      0.10         1.5   \n",
              "14                 0.6      0.4    0.666667  1.111111      0.04         1.2   \n",
              "15                 0.4      0.4    0.571429  1.428571      0.12         1.4   \n",
              "\n",
              "    zhangs_metric  \n",
              "0        0.400000  \n",
              "1        0.533333  \n",
              "2        0.250000  \n",
              "3        0.250000  \n",
              "4        1.000000  \n",
              "5        0.500000  \n",
              "6        0.750000  \n",
              "7        1.000000  \n",
              "8        1.000000  \n",
              "9        1.000000  \n",
              "10       0.500000  \n",
              "11       0.250000  \n",
              "12       0.500000  \n",
              "13       0.625000  \n",
              "14       0.250000  \n",
              "15       1.000000  "
            ]
          },
          "execution_count": 28,
          "metadata": {},
          "output_type": "execute_result"
        }
      ],
      "source": [
        "rules=association_rules(frequent_itemsets_3,metric=\"lift\")\n",
        "rules"
      ]
    },
    {
      "cell_type": "code",
      "execution_count": 29,
      "metadata": {
        "colab": {
          "base_uri": "https://localhost:8080/",
          "height": 551
        },
        "id": "FlbSsBMplfti",
        "outputId": "9162ba50-8f4b-44c4-f313-ad7032668e00"
      },
      "outputs": [
        {
          "data": {
            "text/html": [
              "<div>\n",
              "<style scoped>\n",
              "    .dataframe tbody tr th:only-of-type {\n",
              "        vertical-align: middle;\n",
              "    }\n",
              "\n",
              "    .dataframe tbody tr th {\n",
              "        vertical-align: top;\n",
              "    }\n",
              "\n",
              "    .dataframe thead th {\n",
              "        text-align: right;\n",
              "    }\n",
              "</style>\n",
              "<table border=\"1\" class=\"dataframe\">\n",
              "  <thead>\n",
              "    <tr style=\"text-align: right;\">\n",
              "      <th></th>\n",
              "      <th>antecedents</th>\n",
              "      <th>consequents</th>\n",
              "      <th>antecedent support</th>\n",
              "      <th>consequent support</th>\n",
              "      <th>support</th>\n",
              "      <th>confidence</th>\n",
              "      <th>lift</th>\n",
              "      <th>leverage</th>\n",
              "      <th>conviction</th>\n",
              "      <th>zhangs_metric</th>\n",
              "    </tr>\n",
              "  </thead>\n",
              "  <tbody>\n",
              "    <tr>\n",
              "      <th>8</th>\n",
              "      <td>(LOTR1)</td>\n",
              "      <td>(LOTR2)</td>\n",
              "      <td>0.2</td>\n",
              "      <td>0.2</td>\n",
              "      <td>0.2</td>\n",
              "      <td>1.000000</td>\n",
              "      <td>5.000000</td>\n",
              "      <td>0.16</td>\n",
              "      <td>inf</td>\n",
              "      <td>1.000000</td>\n",
              "    </tr>\n",
              "    <tr>\n",
              "      <th>9</th>\n",
              "      <td>(LOTR2)</td>\n",
              "      <td>(LOTR1)</td>\n",
              "      <td>0.2</td>\n",
              "      <td>0.2</td>\n",
              "      <td>0.2</td>\n",
              "      <td>1.000000</td>\n",
              "      <td>5.000000</td>\n",
              "      <td>0.16</td>\n",
              "      <td>inf</td>\n",
              "      <td>1.000000</td>\n",
              "    </tr>\n",
              "    <tr>\n",
              "      <th>4</th>\n",
              "      <td>(Sixth Sense)</td>\n",
              "      <td>(Green Mile)</td>\n",
              "      <td>0.6</td>\n",
              "      <td>0.2</td>\n",
              "      <td>0.2</td>\n",
              "      <td>0.333333</td>\n",
              "      <td>1.666667</td>\n",
              "      <td>0.08</td>\n",
              "      <td>1.2</td>\n",
              "      <td>1.000000</td>\n",
              "    </tr>\n",
              "    <tr>\n",
              "      <th>5</th>\n",
              "      <td>(Green Mile)</td>\n",
              "      <td>(Sixth Sense)</td>\n",
              "      <td>0.2</td>\n",
              "      <td>0.6</td>\n",
              "      <td>0.2</td>\n",
              "      <td>1.000000</td>\n",
              "      <td>1.666667</td>\n",
              "      <td>0.08</td>\n",
              "      <td>inf</td>\n",
              "      <td>0.500000</td>\n",
              "    </tr>\n",
              "    <tr>\n",
              "      <th>7</th>\n",
              "      <td>(Gladiator)</td>\n",
              "      <td>(Patriot)</td>\n",
              "      <td>0.7</td>\n",
              "      <td>0.6</td>\n",
              "      <td>0.6</td>\n",
              "      <td>0.857143</td>\n",
              "      <td>1.428571</td>\n",
              "      <td>0.18</td>\n",
              "      <td>2.8</td>\n",
              "      <td>1.000000</td>\n",
              "    </tr>\n",
              "    <tr>\n",
              "      <th>6</th>\n",
              "      <td>(Patriot)</td>\n",
              "      <td>(Gladiator)</td>\n",
              "      <td>0.6</td>\n",
              "      <td>0.7</td>\n",
              "      <td>0.6</td>\n",
              "      <td>1.000000</td>\n",
              "      <td>1.428571</td>\n",
              "      <td>0.18</td>\n",
              "      <td>inf</td>\n",
              "      <td>0.750000</td>\n",
              "    </tr>\n",
              "    <tr>\n",
              "      <th>10</th>\n",
              "      <td>(Patriot, Sixth Sense)</td>\n",
              "      <td>(Gladiator)</td>\n",
              "      <td>0.4</td>\n",
              "      <td>0.7</td>\n",
              "      <td>0.4</td>\n",
              "      <td>1.000000</td>\n",
              "      <td>1.428571</td>\n",
              "      <td>0.12</td>\n",
              "      <td>inf</td>\n",
              "      <td>0.500000</td>\n",
              "    </tr>\n",
              "    <tr>\n",
              "      <th>15</th>\n",
              "      <td>(Gladiator)</td>\n",
              "      <td>(Patriot, Sixth Sense)</td>\n",
              "      <td>0.7</td>\n",
              "      <td>0.4</td>\n",
              "      <td>0.4</td>\n",
              "      <td>0.571429</td>\n",
              "      <td>1.428571</td>\n",
              "      <td>0.12</td>\n",
              "      <td>1.4</td>\n",
              "      <td>1.000000</td>\n",
              "    </tr>\n",
              "    <tr>\n",
              "      <th>12</th>\n",
              "      <td>(Sixth Sense, Gladiator)</td>\n",
              "      <td>(Patriot)</td>\n",
              "      <td>0.5</td>\n",
              "      <td>0.6</td>\n",
              "      <td>0.4</td>\n",
              "      <td>0.800000</td>\n",
              "      <td>1.333333</td>\n",
              "      <td>0.10</td>\n",
              "      <td>2.0</td>\n",
              "      <td>0.500000</td>\n",
              "    </tr>\n",
              "    <tr>\n",
              "      <th>13</th>\n",
              "      <td>(Patriot)</td>\n",
              "      <td>(Sixth Sense, Gladiator)</td>\n",
              "      <td>0.6</td>\n",
              "      <td>0.5</td>\n",
              "      <td>0.4</td>\n",
              "      <td>0.666667</td>\n",
              "      <td>1.333333</td>\n",
              "      <td>0.10</td>\n",
              "      <td>1.5</td>\n",
              "      <td>0.625000</td>\n",
              "    </tr>\n",
              "    <tr>\n",
              "      <th>0</th>\n",
              "      <td>(Sixth Sense)</td>\n",
              "      <td>(Gladiator)</td>\n",
              "      <td>0.6</td>\n",
              "      <td>0.7</td>\n",
              "      <td>0.5</td>\n",
              "      <td>0.833333</td>\n",
              "      <td>1.190476</td>\n",
              "      <td>0.08</td>\n",
              "      <td>1.8</td>\n",
              "      <td>0.400000</td>\n",
              "    </tr>\n",
              "    <tr>\n",
              "      <th>1</th>\n",
              "      <td>(Gladiator)</td>\n",
              "      <td>(Sixth Sense)</td>\n",
              "      <td>0.7</td>\n",
              "      <td>0.6</td>\n",
              "      <td>0.5</td>\n",
              "      <td>0.714286</td>\n",
              "      <td>1.190476</td>\n",
              "      <td>0.08</td>\n",
              "      <td>1.4</td>\n",
              "      <td>0.533333</td>\n",
              "    </tr>\n",
              "    <tr>\n",
              "      <th>2</th>\n",
              "      <td>(Patriot)</td>\n",
              "      <td>(Sixth Sense)</td>\n",
              "      <td>0.6</td>\n",
              "      <td>0.6</td>\n",
              "      <td>0.4</td>\n",
              "      <td>0.666667</td>\n",
              "      <td>1.111111</td>\n",
              "      <td>0.04</td>\n",
              "      <td>1.2</td>\n",
              "      <td>0.250000</td>\n",
              "    </tr>\n",
              "    <tr>\n",
              "      <th>3</th>\n",
              "      <td>(Sixth Sense)</td>\n",
              "      <td>(Patriot)</td>\n",
              "      <td>0.6</td>\n",
              "      <td>0.6</td>\n",
              "      <td>0.4</td>\n",
              "      <td>0.666667</td>\n",
              "      <td>1.111111</td>\n",
              "      <td>0.04</td>\n",
              "      <td>1.2</td>\n",
              "      <td>0.250000</td>\n",
              "    </tr>\n",
              "    <tr>\n",
              "      <th>11</th>\n",
              "      <td>(Patriot, Gladiator)</td>\n",
              "      <td>(Sixth Sense)</td>\n",
              "      <td>0.6</td>\n",
              "      <td>0.6</td>\n",
              "      <td>0.4</td>\n",
              "      <td>0.666667</td>\n",
              "      <td>1.111111</td>\n",
              "      <td>0.04</td>\n",
              "      <td>1.2</td>\n",
              "      <td>0.250000</td>\n",
              "    </tr>\n",
              "    <tr>\n",
              "      <th>14</th>\n",
              "      <td>(Sixth Sense)</td>\n",
              "      <td>(Patriot, Gladiator)</td>\n",
              "      <td>0.6</td>\n",
              "      <td>0.6</td>\n",
              "      <td>0.4</td>\n",
              "      <td>0.666667</td>\n",
              "      <td>1.111111</td>\n",
              "      <td>0.04</td>\n",
              "      <td>1.2</td>\n",
              "      <td>0.250000</td>\n",
              "    </tr>\n",
              "  </tbody>\n",
              "</table>\n",
              "</div>"
            ],
            "text/plain": [
              "                 antecedents               consequents  antecedent support  \\\n",
              "8                    (LOTR1)                   (LOTR2)                 0.2   \n",
              "9                    (LOTR2)                   (LOTR1)                 0.2   \n",
              "4              (Sixth Sense)              (Green Mile)                 0.6   \n",
              "5               (Green Mile)             (Sixth Sense)                 0.2   \n",
              "7                (Gladiator)                 (Patriot)                 0.7   \n",
              "6                  (Patriot)               (Gladiator)                 0.6   \n",
              "10    (Patriot, Sixth Sense)               (Gladiator)                 0.4   \n",
              "15               (Gladiator)    (Patriot, Sixth Sense)                 0.7   \n",
              "12  (Sixth Sense, Gladiator)                 (Patriot)                 0.5   \n",
              "13                 (Patriot)  (Sixth Sense, Gladiator)                 0.6   \n",
              "0              (Sixth Sense)               (Gladiator)                 0.6   \n",
              "1                (Gladiator)             (Sixth Sense)                 0.7   \n",
              "2                  (Patriot)             (Sixth Sense)                 0.6   \n",
              "3              (Sixth Sense)                 (Patriot)                 0.6   \n",
              "11      (Patriot, Gladiator)             (Sixth Sense)                 0.6   \n",
              "14             (Sixth Sense)      (Patriot, Gladiator)                 0.6   \n",
              "\n",
              "    consequent support  support  confidence      lift  leverage  conviction  \\\n",
              "8                  0.2      0.2    1.000000  5.000000      0.16         inf   \n",
              "9                  0.2      0.2    1.000000  5.000000      0.16         inf   \n",
              "4                  0.2      0.2    0.333333  1.666667      0.08         1.2   \n",
              "5                  0.6      0.2    1.000000  1.666667      0.08         inf   \n",
              "7                  0.6      0.6    0.857143  1.428571      0.18         2.8   \n",
              "6                  0.7      0.6    1.000000  1.428571      0.18         inf   \n",
              "10                 0.7      0.4    1.000000  1.428571      0.12         inf   \n",
              "15                 0.4      0.4    0.571429  1.428571      0.12         1.4   \n",
              "12                 0.6      0.4    0.800000  1.333333      0.10         2.0   \n",
              "13                 0.5      0.4    0.666667  1.333333      0.10         1.5   \n",
              "0                  0.7      0.5    0.833333  1.190476      0.08         1.8   \n",
              "1                  0.6      0.5    0.714286  1.190476      0.08         1.4   \n",
              "2                  0.6      0.4    0.666667  1.111111      0.04         1.2   \n",
              "3                  0.6      0.4    0.666667  1.111111      0.04         1.2   \n",
              "11                 0.6      0.4    0.666667  1.111111      0.04         1.2   \n",
              "14                 0.6      0.4    0.666667  1.111111      0.04         1.2   \n",
              "\n",
              "    zhangs_metric  \n",
              "8        1.000000  \n",
              "9        1.000000  \n",
              "4        1.000000  \n",
              "5        0.500000  \n",
              "7        1.000000  \n",
              "6        0.750000  \n",
              "10       0.500000  \n",
              "15       1.000000  \n",
              "12       0.500000  \n",
              "13       0.625000  \n",
              "0        0.400000  \n",
              "1        0.533333  \n",
              "2        0.250000  \n",
              "3        0.250000  \n",
              "11       0.250000  \n",
              "14       0.250000  "
            ]
          },
          "execution_count": 29,
          "metadata": {},
          "output_type": "execute_result"
        }
      ],
      "source": [
        "rules.sort_values(by='lift',ascending=False)"
      ]
    },
    {
      "cell_type": "code",
      "execution_count": 30,
      "metadata": {
        "colab": {
          "base_uri": "https://localhost:8080/",
          "height": 1000
        },
        "id": "3Xl9XBbnlfxd",
        "outputId": "f782daa4-1657-4ea8-94dc-c3422b2352b7"
      },
      "outputs": [
        {
          "data": {
            "image/png": "[encoded data removed]",
            "text/plain": [
              "<Figure size 1500x1500 with 4 Axes>"
            ]
          },
          "metadata": {},
          "output_type": "display_data"
        }
      ],
      "source": [
        "rules[['support','confidence','lift']].hist(figsize=(15,15))\n",
        "plt.show()"
      ]
    },
    {
      "cell_type": "code",
      "execution_count": 31,
      "metadata": {
        "colab": {
          "base_uri": "https://localhost:8080/",
          "height": 445
        },
        "id": "_LDIVTK3lf1O",
        "outputId": "e29212a2-fe3d-4a0c-926e-2ab2ad1c50df"
      },
      "outputs": [
        {
          "data": {
            "image/png": "[encoded data removed]",
            "text/plain": [
              "<Figure size 1500x500 with 1 Axes>"
            ]
          },
          "metadata": {},
          "output_type": "display_data"
        }
      ],
      "source": [
        "rules[['support']].boxplot(figsize=(15,5))\n",
        "plt.show()"
      ]
    },
    {
      "cell_type": "code",
      "execution_count": 32,
      "metadata": {
        "colab": {
          "base_uri": "https://localhost:8080/",
          "height": 445
        },
        "id": "djxXlk-Olf4m",
        "outputId": "69f62efa-fe9c-464f-89f9-dd220e99549d"
      },
      "outputs": [
        {
          "data": {
            "image/png": "[encoded data removed]",
            "text/plain": [
              "<Figure size 1500x500 with 1 Axes>"
            ]
          },
          "metadata": {},
          "output_type": "display_data"
        }
      ],
      "source": [
        "rules[['confidence']].boxplot(figsize=(15,5))\n",
        "plt.show()"
      ]
    },
    {
      "cell_type": "code",
      "execution_count": 33,
      "metadata": {
        "colab": {
          "base_uri": "https://localhost:8080/",
          "height": 462
        },
        "id": "h9rHMLbZlf7P",
        "outputId": "eb5a8e49-3a85-4269-d33e-65064a6e74ae"
      },
      "outputs": [
        {
          "data": {
            "text/plain": [
              "<Axes: >"
            ]
          },
          "execution_count": 33,
          "metadata": {},
          "output_type": "execute_result"
        },
        {
          "data": {
            "image/png": "[encoded data removed]",
            "text/plain": [
              "<Figure size 1500x500 with 1 Axes>"
            ]
          },
          "metadata": {},
          "output_type": "display_data"
        }
      ],
      "source": [
        "rules[['lift']].boxplot(figsize=(15,5))"
      ]
    },
    {
      "cell_type": "code",
      "execution_count": 34,
      "metadata": {
        "colab": {
          "base_uri": "https://localhost:8080/",
          "height": 430
        },
        "id": "VDbQ9AWqlWz_",
        "outputId": "16e6d3ff-9c95-4d38-a286-4b0f4594e45f"
      },
      "outputs": [
        {
          "data": {
            "image/png": "[encoded data removed]",
            "text/plain": [
              "<Figure size 640x480 with 1 Axes>"
            ]
          },
          "metadata": {},
          "output_type": "display_data"
        }
      ],
      "source": [
        "plt.scatter(rules['support'],rules['confidence'])\n",
        "plt.show()"
      ]
    },
    {
      "cell_type": "code",
      "execution_count": 35,
      "metadata": {
        "colab": {
          "base_uri": "https://localhost:8080/",
          "height": 430
        },
        "id": "ojduo1A3lW3f",
        "outputId": "7dda4150-62ff-4147-a2a7-076583d76de6"
      },
      "outputs": [
        {
          "data": {
            "image/png": "[encoded data removed]",
            "text/plain": [
              "<Figure size 640x480 with 1 Axes>"
            ]
          },
          "metadata": {},
          "output_type": "display_data"
        }
      ],
      "source": [
        "plt.scatter(rules['confidence'],rules['lift'])\n",
        "plt.show()"
      ]
    },
    {
      "cell_type": "code",
      "execution_count": 36,
      "metadata": {
        "colab": {
          "base_uri": "https://localhost:8080/",
          "height": 430
        },
        "id": "yn0ZFuiXlW6Q",
        "outputId": "1a753f61-1695-4f38-a3e3-00774833cc68"
      },
      "outputs": [
        {
          "data": {
            "image/png": "[encoded data removed]",
            "text/plain": [
              "<Figure size 640x480 with 1 Axes>"
            ]
          },
          "metadata": {},
          "output_type": "display_data"
        }
      ],
      "source": [
        "plt.scatter(rules['lift'],rules['support'])\n",
        "plt.show()"
      ]
    }
  ],
  "metadata": {
    "colab": {
      "provenance": []
    },
    "kernelspec": {
      "display_name": "Python 3",
      "name": "python3"
    },
    "language_info": {
      "codemirror_mode": {
        "name": "ipython",
        "version": 3
      },
      "file_extension": ".py",
      "mimetype": "text/x-python",
      "name": "python",
      "nbconvert_exporter": "python",
      "pygments_lexer": "ipython3",
      "version": "3.11.5"
    }
  },
  "nbformat": 4,
  "nbformat_minor": 0
}
